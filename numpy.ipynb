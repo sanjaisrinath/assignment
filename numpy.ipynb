{
  "nbformat": 4,
  "nbformat_minor": 0,
  "metadata": {
    "colab": {
      "provenance": []
    },
    "kernelspec": {
      "name": "python3",
      "display_name": "Python 3"
    },
    "language_info": {
      "name": "python"
    }
  },
  "cells": [
    {
      "cell_type": "code",
      "execution_count": null,
      "metadata": {
        "id": "BcNKWsJEYkOp"
      },
      "outputs": [],
      "source": [
        "import numpy as np"
      ]
    },
    {
      "cell_type": "code",
      "source": [
        "np_array = np.array([1,2,3,4,5])\n",
        "print(np_array)"
      ],
      "metadata": {
        "colab": {
          "base_uri": "https://localhost:8080/"
        },
        "id": "s23GXo78Ypdw",
        "outputId": "135728d3-e4f0-45e8-8ad6-7f87d947e09c"
      },
      "execution_count": null,
      "outputs": [
        {
          "output_type": "stream",
          "name": "stdout",
          "text": [
            "[1 2 3 4 5]\n"
          ]
        }
      ]
    },
    {
      "cell_type": "code",
      "source": [
        "#create 1 dimensional array\n",
        "a = np.array([1,2,3,4,5])\n",
        "print(a)"
      ],
      "metadata": {
        "colab": {
          "base_uri": "https://localhost:8080/"
        },
        "id": "QqCl_VqGYx5g",
        "outputId": "a2c28422-a669-40f3-9674-c21dcd75a647"
      },
      "execution_count": null,
      "outputs": [
        {
          "output_type": "stream",
          "name": "stdout",
          "text": [
            "[1 2 3 4 5]\n"
          ]
        }
      ]
    },
    {
      "cell_type": "code",
      "source": [
        "a.shape"
      ],
      "metadata": {
        "colab": {
          "base_uri": "https://localhost:8080/"
        },
        "id": "atCOvboCY9v1",
        "outputId": "549363b2-4d9c-4abc-ca2c-6017cbf812fc"
      },
      "execution_count": null,
      "outputs": [
        {
          "output_type": "execute_result",
          "data": {
            "text/plain": [
              "(5,)"
            ]
          },
          "metadata": {},
          "execution_count": 4
        }
      ]
    },
    {
      "cell_type": "code",
      "source": [
        "#2 dimensional array\n",
        "b= np.array([(1,2,3,4),(2,3,5,6)])\n",
        "print(b)\n",
        "b.shape"
      ],
      "metadata": {
        "colab": {
          "base_uri": "https://localhost:8080/"
        },
        "id": "rWLGIhZAZATb",
        "outputId": "2f54a7e9-1cb9-42ef-a5f9-6939aae34881"
      },
      "execution_count": null,
      "outputs": [
        {
          "output_type": "stream",
          "name": "stdout",
          "text": [
            "[[1 2 3 4]\n",
            " [2 3 5 6]]\n"
          ]
        },
        {
          "output_type": "execute_result",
          "data": {
            "text/plain": [
              "(2, 4)"
            ]
          },
          "metadata": {},
          "execution_count": 5
        }
      ]
    },
    {
      "cell_type": "code",
      "source": [],
      "metadata": {
        "id": "QexZDU77aC8A"
      },
      "execution_count": null,
      "outputs": []
    },
    {
      "cell_type": "code",
      "source": [
        "c= np.array([(1,2,3,4),(4,5,67,56),(12,34,56,56),(12,34,56,67)])\n",
        "print(c)\n",
        "print (type(c))\n",
        "c.shape"
      ],
      "metadata": {
        "id": "j0xUC-W3ajcJ",
        "colab": {
          "base_uri": "https://localhost:8080/"
        },
        "outputId": "500cc28c-91a9-4763-f335-0b76b83a653f"
      },
      "execution_count": null,
      "outputs": [
        {
          "output_type": "stream",
          "name": "stdout",
          "text": [
            "[[ 1  2  3  4]\n",
            " [ 4  5 67 56]\n",
            " [12 34 56 56]\n",
            " [12 34 56 67]]\n",
            "<class 'numpy.ndarray'>\n"
          ]
        },
        {
          "output_type": "execute_result",
          "data": {
            "text/plain": [
              "(4, 4)"
            ]
          },
          "metadata": {},
          "execution_count": 6
        }
      ]
    },
    {
      "cell_type": "code",
      "source": [
        "# add float in list\n",
        "a = np.array([(1,2,3,4,5),(2,3,5,6,6),(34,5,6,7,7),(23,4,56,7,88)],dtype =float)\n",
        "\n",
        "print(a)\n",
        "a.shape"
      ],
      "metadata": {
        "colab": {
          "base_uri": "https://localhost:8080/"
        },
        "id": "iJ6506RpK011",
        "outputId": "58f86495-02be-437f-fdab-0ef68a0fc36b"
      },
      "execution_count": null,
      "outputs": [
        {
          "output_type": "stream",
          "name": "stdout",
          "text": [
            "[[ 1.  2.  3.  4.  5.]\n",
            " [ 2.  3.  5.  6.  6.]\n",
            " [34.  5.  6.  7.  7.]\n",
            " [23.  4. 56.  7. 88.]]\n"
          ]
        },
        {
          "output_type": "execute_result",
          "data": {
            "text/plain": [
              "(4, 5)"
            ]
          },
          "metadata": {},
          "execution_count": 7
        }
      ]
    },
    {
      "cell_type": "code",
      "source": [
        "#numpy all array is zero\n",
        "b= np.zeros((2,2))\n",
        "print(b)"
      ],
      "metadata": {
        "colab": {
          "base_uri": "https://localhost:8080/"
        },
        "id": "Fm2_7VLiOEuJ",
        "outputId": "9ae4be23-607d-4e06-842b-fbbf91ecdc2a"
      },
      "execution_count": null,
      "outputs": [
        {
          "output_type": "stream",
          "name": "stdout",
          "text": [
            "[[0. 0.]\n",
            " [0. 0.]]\n"
          ]
        }
      ]
    },
    {
      "cell_type": "code",
      "source": [
        "#numpy all array is ones\n",
        "c= np.ones((3,4))\n",
        "print(c)"
      ],
      "metadata": {
        "colab": {
          "base_uri": "https://localhost:8080/"
        },
        "id": "HqHbKZQzP8fo",
        "outputId": "9cf6184e-6d3e-4178-dafa-cd4af16e10c0"
      },
      "execution_count": null,
      "outputs": [
        {
          "output_type": "stream",
          "name": "stdout",
          "text": [
            "[[1. 1. 1. 1.]\n",
            " [1. 1. 1. 1.]\n",
            " [1. 1. 1. 1.]]\n"
          ]
        }
      ]
    },
    {
      "cell_type": "code",
      "source": [
        "# getting a particular value in array\n",
        "c= np.full((2,3),4)\n",
        "print(c)"
      ],
      "metadata": {
        "colab": {
          "base_uri": "https://localhost:8080/"
        },
        "id": "9mMVPgNcQOU4",
        "outputId": "8380f2f8-1852-4184-9ba6-9de34de0d442"
      },
      "execution_count": null,
      "outputs": [
        {
          "output_type": "stream",
          "name": "stdout",
          "text": [
            "[[4 4 4]\n",
            " [4 4 4]]\n"
          ]
        }
      ]
    },
    {
      "cell_type": "code",
      "source": [
        "#create array identity matrix using numpy\n",
        "z = np.eye(3)\n",
        "print(z)"
      ],
      "metadata": {
        "colab": {
          "base_uri": "https://localhost:8080/"
        },
        "id": "gWDUvBQvRrTU",
        "outputId": "e6c71c49-1e78-49be-d425-3ec788e36136"
      },
      "execution_count": null,
      "outputs": [
        {
          "output_type": "stream",
          "name": "stdout",
          "text": [
            "[[1. 0. 0.]\n",
            " [0. 1. 0.]\n",
            " [0. 0. 1.]]\n"
          ]
        }
      ]
    },
    {
      "cell_type": "code",
      "source": [
        "# create array with random values\n",
        "c = np.random.random((2,4))\n",
        "print(c)"
      ],
      "metadata": {
        "colab": {
          "base_uri": "https://localhost:8080/"
        },
        "id": "4JzFeGruWeux",
        "outputId": "1dc78084-3dd6-4713-8827-ebe4e1210c8f"
      },
      "execution_count": null,
      "outputs": [
        {
          "output_type": "stream",
          "name": "stdout",
          "text": [
            "[[0.44333335 0.67378036 0.88413491 0.76720532]\n",
            " [0.09177845 0.32522088 0.37208069 0.74842835]]\n"
          ]
        }
      ]
    },
    {
      "cell_type": "code",
      "source": [
        "# random integer value within range\n",
        "s = np.random.randint(10,20,(2,2))\n",
        "print(s)"
      ],
      "metadata": {
        "colab": {
          "base_uri": "https://localhost:8080/"
        },
        "id": "k4tx8j1yYAux",
        "outputId": "28c00f1b-90f9-4371-d44d-a13af0b9e04a"
      },
      "execution_count": null,
      "outputs": [
        {
          "output_type": "stream",
          "name": "stdout",
          "text": [
            "[[14 14]\n",
            " [12 15]]\n"
          ]
        }
      ]
    },
    {
      "cell_type": "code",
      "source": [
        " #array of evenly spaced values ------ specifying the number of values required\n",
        "e = np.linspace(20,50,15)\n",
        "print(e)\n"
      ],
      "metadata": {
        "colab": {
          "base_uri": "https://localhost:8080/"
        },
        "id": "__PdHdyqY_Po",
        "outputId": "c936cbde-0d12-4670-e6bb-8d3e34103d84"
      },
      "execution_count": null,
      "outputs": [
        {
          "output_type": "stream",
          "name": "stdout",
          "text": [
            "[20.         22.14285714 24.28571429 26.42857143 28.57142857 30.71428571\n",
            " 32.85714286 35.         37.14285714 39.28571429 41.42857143 43.57142857\n",
            " 45.71428571 47.85714286 50.        ]\n"
          ]
        }
      ]
    },
    {
      "cell_type": "code",
      "source": [
        " #array of evenly spaced values ------ specifying the number of steps required\n",
        "e = np.arange(20,50,3)\n",
        "print(e)\n"
      ],
      "metadata": {
        "colab": {
          "base_uri": "https://localhost:8080/"
        },
        "id": "SWoXkt1EaBlq",
        "outputId": "6ab8433f-9a77-4ad2-fc14-a1917a874fb5"
      },
      "execution_count": null,
      "outputs": [
        {
          "output_type": "stream",
          "name": "stdout",
          "text": [
            "[20 23 26 29 32 35 38 41 44 47]\n"
          ]
        }
      ]
    },
    {
      "cell_type": "code",
      "source": [
        "list1 = [1,2,3,4,5]\n",
        "np_array = np.asarray(list1)\n",
        "print(np_array)\n",
        "print(type(np_array))"
      ],
      "metadata": {
        "id": "A-zkYl2mb7KI",
        "colab": {
          "base_uri": "https://localhost:8080/"
        },
        "outputId": "87cdaae0-3690-45dd-f7d0-007ee47a4427"
      },
      "execution_count": null,
      "outputs": [
        {
          "output_type": "stream",
          "name": "stdout",
          "text": [
            "[1 2 3 4 5]\n",
            "<class 'numpy.ndarray'>\n"
          ]
        }
      ]
    },
    {
      "cell_type": "code",
      "source": [
        "list1 = (1,2,3,4,5)\n",
        "np_array = np.asarray(list1)\n",
        "print(np_array)\n",
        "print(type(np_array))"
      ],
      "metadata": {
        "colab": {
          "base_uri": "https://localhost:8080/"
        },
        "id": "mHNafDEzNvs4",
        "outputId": "604a1260-6aba-4771-a322-5eae36f4a0a1"
      },
      "execution_count": null,
      "outputs": [
        {
          "output_type": "stream",
          "name": "stdout",
          "text": [
            "[1 2 3 4 5]\n",
            "<class 'numpy.ndarray'>\n"
          ]
        }
      ]
    },
    {
      "cell_type": "code",
      "source": [
        "a = np.random.randint(10,30,(2,2))\n",
        "print(a)"
      ],
      "metadata": {
        "colab": {
          "base_uri": "https://localhost:8080/"
        },
        "id": "mwp1vAptOOwk",
        "outputId": "0a9a217e-15a7-467b-977d-62779205f615"
      },
      "execution_count": null,
      "outputs": [
        {
          "output_type": "stream",
          "name": "stdout",
          "text": [
            "[[16 18]\n",
            " [22 26]]\n"
          ]
        }
      ]
    },
    {
      "cell_type": "code",
      "source": [
        "print(a.ndim)"
      ],
      "metadata": {
        "colab": {
          "base_uri": "https://localhost:8080/"
        },
        "id": "nHfWW1oNaXB4",
        "outputId": "ff8e2776-48eb-47cd-dfc1-9a5bf17cd8ed"
      },
      "execution_count": null,
      "outputs": [
        {
          "output_type": "stream",
          "name": "stdout",
          "text": [
            "2\n"
          ]
        }
      ]
    },
    {
      "cell_type": "code",
      "source": [
        "print(a.size)"
      ],
      "metadata": {
        "colab": {
          "base_uri": "https://localhost:8080/"
        },
        "id": "LDbL5pAqbDtE",
        "outputId": "472a9d96-b576-4002-a9c4-fa7a8cf7cfaa"
      },
      "execution_count": null,
      "outputs": [
        {
          "output_type": "stream",
          "name": "stdout",
          "text": [
            "4\n"
          ]
        }
      ]
    },
    {
      "cell_type": "code",
      "source": [
        "list1 = [1,2,34,5]\n",
        "list2 = [1,2,34,5]\n",
        "add = list1 + list2\n",
        "print(add)"
      ],
      "metadata": {
        "colab": {
          "base_uri": "https://localhost:8080/"
        },
        "id": "quFhpPsybjRy",
        "outputId": "f15eec85-2d15-41f6-a9da-da6bba1b01c9"
      },
      "execution_count": null,
      "outputs": [
        {
          "output_type": "stream",
          "name": "stdout",
          "text": [
            "[1, 2, 34, 5, 1, 2, 34, 5]\n"
          ]
        }
      ]
    },
    {
      "cell_type": "code",
      "source": [
        "list1 = [1,2,34,5]\n",
        "list2 = [1,2,34,5]\n",
        "print(np.add(list1,list2))"
      ],
      "metadata": {
        "colab": {
          "base_uri": "https://localhost:8080/"
        },
        "id": "X56kzr9Md2k8",
        "outputId": "c8fd053f-9f34-4dd7-b168-56966af4f9e0"
      },
      "execution_count": null,
      "outputs": [
        {
          "output_type": "stream",
          "name": "stdout",
          "text": [
            "[ 2  4 68 10]\n"
          ]
        }
      ]
    },
    {
      "cell_type": "code",
      "source": [
        "print(np.multiply(list1,list2))"
      ],
      "metadata": {
        "id": "MCIk0Y8eeWy_",
        "colab": {
          "base_uri": "https://localhost:8080/"
        },
        "outputId": "e31b6035-6233-4f37-c905-278c1ad881ba"
      },
      "execution_count": null,
      "outputs": [
        {
          "output_type": "stream",
          "name": "stdout",
          "text": [
            "[   1    4 1156   25]\n"
          ]
        }
      ]
    },
    {
      "cell_type": "code",
      "source": [
        "a = np.random.randint(10,30,(3,2))\n",
        "print(a)\n",
        "print(a.shape)"
      ],
      "metadata": {
        "colab": {
          "base_uri": "https://localhost:8080/"
        },
        "id": "NR1NTyMg9lJX",
        "outputId": "fc0c76e0-97a0-4ef6-94f7-5415f8b2c07a"
      },
      "execution_count": null,
      "outputs": [
        {
          "output_type": "stream",
          "name": "stdout",
          "text": [
            "[[17 28]\n",
            " [12 16]\n",
            " [15 20]]\n",
            "(3, 2)\n"
          ]
        }
      ]
    },
    {
      "cell_type": "markdown",
      "source": [
        "transpose"
      ],
      "metadata": {
        "id": "CCEASqUIAFmW"
      }
    },
    {
      "cell_type": "code",
      "source": [
        "b= np.transpose(a)\n",
        "print(b)\n",
        "print(b.shape)"
      ],
      "metadata": {
        "colab": {
          "base_uri": "https://localhost:8080/"
        },
        "id": "GFCstZH-_-Sq",
        "outputId": "505d94cd-8b1b-4c4c-d4e5-8662661d5020"
      },
      "execution_count": null,
      "outputs": [
        {
          "output_type": "stream",
          "name": "stdout",
          "text": [
            "[[17 12 15]\n",
            " [28 16 20]]\n",
            "(2, 3)\n"
          ]
        }
      ]
    },
    {
      "cell_type": "code",
      "source": [
        "c = np.random.randint(10,30,(3,2))\n",
        "print(c)\n",
        "print(c.shape)"
      ],
      "metadata": {
        "colab": {
          "base_uri": "https://localhost:8080/"
        },
        "id": "P4PGrvysATO3",
        "outputId": "8ee3bc06-f10d-44bb-c306-e35ef280a897"
      },
      "execution_count": null,
      "outputs": [
        {
          "output_type": "stream",
          "name": "stdout",
          "text": [
            "[[11 10]\n",
            " [27 26]\n",
            " [24 18]]\n",
            "(3, 2)\n"
          ]
        }
      ]
    },
    {
      "cell_type": "code",
      "source": [
        "d = a.T\n",
        "print(d)\n",
        "print(d.shape)"
      ],
      "metadata": {
        "colab": {
          "base_uri": "https://localhost:8080/"
        },
        "id": "4tcyYS2xAlju",
        "outputId": "fc4f8417-6b31-420d-c5f0-4179fc5eb628"
      },
      "execution_count": null,
      "outputs": [
        {
          "output_type": "stream",
          "name": "stdout",
          "text": [
            "[[17 12 15]\n",
            " [28 16 20]]\n",
            "(2, 3)\n"
          ]
        }
      ]
    },
    {
      "cell_type": "code",
      "source": [
        "# reshape array\n",
        "e= a.reshape(2,3)\n",
        "print(e)\n",
        "print(e.shape)"
      ],
      "metadata": {
        "colab": {
          "base_uri": "https://localhost:8080/"
        },
        "id": "fiTUhduwAuHq",
        "outputId": "cc28a485-e953-4771-fb97-1f301548cdd9"
      },
      "execution_count": null,
      "outputs": [
        {
          "output_type": "stream",
          "name": "stdout",
          "text": [
            "[[17 28 12]\n",
            " [16 15 20]]\n",
            "(2, 3)\n"
          ]
        }
      ]
    },
    {
      "cell_type": "code",
      "source": [],
      "metadata": {
        "id": "cQDjoHUmCIZm"
      },
      "execution_count": null,
      "outputs": []
    }
  ]
}